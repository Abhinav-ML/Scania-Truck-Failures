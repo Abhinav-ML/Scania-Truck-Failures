{
  "cells": [
    {
      "cell_type": "markdown",
      "metadata": {
        "id": "XVLgfRzqDPk2"
      },
      "source": [
        "#                                Sensor Component Failure Prediction"
      ]
    },
    {
      "cell_type": "code",
      "execution_count": 1,
      "metadata": {
        "colab": {
          "base_uri": "https://localhost:8080/"
        },
        "id": "hSrylnVoDPk4",
        "outputId": "9eae0ec5-b537-4948-b46b-14dd3ccc8da1"
      },
      "outputs": [
        {
          "output_type": "stream",
          "name": "stdout",
          "text": [
            "Lets Start!!!\n"
          ]
        }
      ],
      "source": [
        "print(\"Lets Start!!!\")"
      ]
    },
    {
      "cell_type": "markdown",
      "metadata": {
        "id": "xHB74YZpDPk6"
      },
      "source": [
        "## Challenges and other objectives\n",
        "\n",
        "- Need to Handle many Null values in almost all columns\n",
        "- No low-latency requirement.\n",
        "- Interpretability is not important.\n",
        "- misclassification leads the unecessary repair costs."
      ]
    },
    {
      "cell_type": "markdown",
      "metadata": {
        "id": "A38zRs3GDPk6"
      },
      "source": [
        "## 2) Import required libraries"
      ]
    },
    {
      "cell_type": "code",
      "execution_count": 4,
      "metadata": {
        "id": "daGxyjVSDPk6"
      },
      "outputs": [],
      "source": [
        "import pandas as pd\n",
        "import seaborn as sns\n",
        "import numpy as np\n",
        "from statistics import mean\n",
        "import matplotlib.pyplot as plt\n",
        "import warnings\n",
        "from sklearn.preprocessing import PowerTransformer\n",
        "import numpy as np\n",
        "from sklearn.preprocessing import LabelEncoder\n",
        "from sklearn.pipeline import Pipeline\n",
        "from sklearn.utils import resample\n",
        "\n",
        "from sklearn.linear_model import LogisticRegression\n",
        "from sklearn.ensemble import RandomForestClassifier, AdaBoostClassifier, GradientBoostingClassifier\n",
        "from sklearn.neighbors import KNeighborsClassifier\n",
        "from sklearn.tree import DecisionTreeClassifier\n",
        "from sklearn.svm import SVC\n",
        "from sklearn.metrics import accuracy_score, classification_report,ConfusionMatrixDisplay, \\\n",
        "                            precision_score, recall_score, f1_score, roc_auc_score,roc_curve,confusion_matrix\n",
        "\n",
        "\n",
        "from sklearn import metrics \n",
        "from sklearn.model_selection import  train_test_split, RepeatedStratifiedKFold, cross_val_score\n",
        "from sklearn.preprocessing import OneHotEncoder, MinMaxScaler\n",
        "from sklearn.compose import ColumnTransformer\n",
        "from sklearn.impute import SimpleImputer, KNNImputer\n",
        "from xgboost import XGBClassifier\n",
        "from sklearn.preprocessing import StandardScaler, MinMaxScaler,RobustScaler\n",
        "from sklearn.compose import ColumnTransformer\n",
        "from catboost import CatBoostClassifier\n",
        "\n",
        "warnings.filterwarnings(\"ignore\")\n",
        "%matplotlib inline"
      ]
    },
    {
      "cell_type": "code",
      "source": [
        "# pip install catboost"
      ],
      "metadata": {
        "id": "l6Z11RGED-MG"
      },
      "execution_count": 5,
      "outputs": []
    },
    {
      "cell_type": "markdown",
      "metadata": {
        "id": "vt-LLBbpDPk7"
      },
      "source": [
        "### Read Data"
      ]
    },
    {
      "cell_type": "code",
      "execution_count": 6,
      "metadata": {
        "id": "LTLKFrIqDPk7"
      },
      "outputs": [],
      "source": [
        "# Load csv file\n",
        "df = pd.read_csv('aps_failure_training_reduced.csv', na_values=\"na\")"
      ]
    },
    {
      "cell_type": "code",
      "execution_count": 7,
      "metadata": {
        "colab": {
          "base_uri": "https://localhost:8080/"
        },
        "id": "330kKv_hDPk7",
        "outputId": "69690a06-84c5-4e16-8bdd-778560be1370"
      },
      "outputs": [
        {
          "output_type": "execute_result",
          "data": {
            "text/plain": [
              "(5000, 171)"
            ]
          },
          "metadata": {},
          "execution_count": 7
        }
      ],
      "source": [
        "# check rows and columns of the dataset\n",
        "df.shape"
      ]
    },
    {
      "cell_type": "code",
      "execution_count": 8,
      "metadata": {
        "colab": {
          "base_uri": "https://localhost:8080/"
        },
        "id": "lVhHAZ45DPk8",
        "outputId": "ea73452e-9480-4178-e08a-c561f67b5f34"
      },
      "outputs": [
        {
          "output_type": "execute_result",
          "data": {
            "text/plain": [
              "neg    4909\n",
              "pos      91\n",
              "Name: class, dtype: int64"
            ]
          },
          "metadata": {},
          "execution_count": 8
        }
      ],
      "source": [
        "# Check unique values of target varaible\n",
        "df['class'].value_counts()"
      ]
    },
    {
      "cell_type": "code",
      "execution_count": 9,
      "metadata": {
        "colab": {
          "base_uri": "https://localhost:8080/"
        },
        "id": "2te7_q4UDPk8",
        "outputId": "9ad3eb94-2a43-4bdf-8613-db503721e6e7"
      },
      "outputs": [
        {
          "output_type": "stream",
          "name": "stdout",
          "text": [
            "We have 170 numerical features : ['aa_000', 'ab_000', 'ac_000', 'ad_000', 'ae_000', 'af_000', 'ag_000', 'ag_001', 'ag_002', 'ag_003', 'ag_004', 'ag_005', 'ag_006', 'ag_007', 'ag_008', 'ag_009', 'ah_000', 'ai_000', 'aj_000', 'ak_000', 'al_000', 'am_0', 'an_000', 'ao_000', 'ap_000', 'aq_000', 'ar_000', 'as_000', 'at_000', 'au_000', 'av_000', 'ax_000', 'ay_000', 'ay_001', 'ay_002', 'ay_003', 'ay_004', 'ay_005', 'ay_006', 'ay_007', 'ay_008', 'ay_009', 'az_000', 'az_001', 'az_002', 'az_003', 'az_004', 'az_005', 'az_006', 'az_007', 'az_008', 'az_009', 'ba_000', 'ba_001', 'ba_002', 'ba_003', 'ba_004', 'ba_005', 'ba_006', 'ba_007', 'ba_008', 'ba_009', 'bb_000', 'bc_000', 'bd_000', 'be_000', 'bf_000', 'bg_000', 'bh_000', 'bi_000', 'bj_000', 'bk_000', 'bl_000', 'bm_000', 'bn_000', 'bo_000', 'bp_000', 'bq_000', 'br_000', 'bs_000', 'bt_000', 'bu_000', 'bv_000', 'bx_000', 'by_000', 'bz_000', 'ca_000', 'cb_000', 'cc_000', 'cd_000', 'ce_000', 'cf_000', 'cg_000', 'ch_000', 'ci_000', 'cj_000', 'ck_000', 'cl_000', 'cm_000', 'cn_000', 'cn_001', 'cn_002', 'cn_003', 'cn_004', 'cn_005', 'cn_006', 'cn_007', 'cn_008', 'cn_009', 'co_000', 'cp_000', 'cq_000', 'cr_000', 'cs_000', 'cs_001', 'cs_002', 'cs_003', 'cs_004', 'cs_005', 'cs_006', 'cs_007', 'cs_008', 'cs_009', 'ct_000', 'cu_000', 'cv_000', 'cx_000', 'cy_000', 'cz_000', 'da_000', 'db_000', 'dc_000', 'dd_000', 'de_000', 'df_000', 'dg_000', 'dh_000', 'di_000', 'dj_000', 'dk_000', 'dl_000', 'dm_000', 'dn_000', 'do_000', 'dp_000', 'dq_000', 'dr_000', 'ds_000', 'dt_000', 'du_000', 'dv_000', 'dx_000', 'dy_000', 'dz_000', 'ea_000', 'eb_000', 'ec_00', 'ed_000', 'ee_000', 'ee_001', 'ee_002', 'ee_003', 'ee_004', 'ee_005', 'ee_006', 'ee_007', 'ee_008', 'ee_009', 'ef_000', 'eg_000']\n",
            "\n",
            "We have 1 categorical features : ['class']\n"
          ]
        }
      ],
      "source": [
        "# define numerical & categorical columns\n",
        "numeric_features = [feature for feature in df.columns if df[feature].dtype != 'O']\n",
        "categorical_features = [feature for feature in df.columns if df[feature].dtype == 'O']\n",
        "\n",
        "# print columns\n",
        "print('We have {} numerical features : {}'.format(len(numeric_features), numeric_features))\n",
        "print('\\nWe have {} categorical features : {}'.format(len(categorical_features), categorical_features))"
      ]
    },
    {
      "cell_type": "markdown",
      "metadata": {
        "id": "8dc4NktUDPk8"
      },
      "source": [
        "### As this is a Sensor data. Interpretation of the data is not required "
      ]
    },
    {
      "cell_type": "markdown",
      "metadata": {
        "id": "SIFah0NBDPk8"
      },
      "source": [
        "### Checking missing values"
      ]
    },
    {
      "cell_type": "code",
      "execution_count": 10,
      "metadata": {
        "colab": {
          "base_uri": "https://localhost:8080/",
          "height": 300
        },
        "id": "jE2KVsKeDPk8",
        "outputId": "e733e792-1a24-4119-b807-f9859c655790"
      },
      "outputs": [
        {
          "output_type": "display_data",
          "data": {
            "text/plain": [
              "<Figure size 1080x360 with 1 Axes>"
            ],
            "image/png": "[encoded data removed]"
          },
          "metadata": {
            "needs_background": "light"
          }
        }
      ],
      "source": [
        "# Plotting Missing values count for each column\n",
        "fig, ax = plt.subplots(figsize=(15,5))\n",
        "\n",
        "missing = df.isna().sum().div(df.shape[0]).mul(100).to_frame().sort_values(by=0, ascending = False)\n",
        "\n",
        "ax.bar(missing.index, missing.values.T[0])\n",
        "plt.xticks([])\n",
        "plt.ylabel(\"Percentage missing\")\n",
        "plt.show()"
      ]
    },
    {
      "cell_type": "markdown",
      "metadata": {
        "id": "q2VaYy6SDPk9"
      },
      "source": [
        "### Dropping Columns which has more than 70% of missing values."
      ]
    },
    {
      "cell_type": "code",
      "execution_count": 11,
      "metadata": {
        "scrolled": true,
        "colab": {
          "base_uri": "https://localhost:8080/",
          "height": 269
        },
        "id": "zpEEqQpBDPk9",
        "outputId": "150cec80-fa52-4a6e-bda0-838956d57f5f"
      },
      "outputs": [
        {
          "output_type": "execute_result",
          "data": {
            "text/plain": [
              "            0\n",
              "br_000  82.10\n",
              "bq_000  80.86\n",
              "bp_000  79.20\n",
              "ab_000  76.98\n",
              "cr_000  76.98\n",
              "bo_000  76.64\n",
              "bn_000  72.62"
            ],
            "text/html": [
              "\n",
              "  <div id=\"df-dd8157b5-9e49-4a88-9fec-e4329774b43b\">\n",
              "    <div class=\"colab-df-container\">\n",
              "      <div>\n",
              "<style scoped>\n",
              "    .dataframe tbody tr th:only-of-type {\n",
              "        vertical-align: middle;\n",
              "    }\n",
              "\n",
              "    .dataframe tbody tr th {\n",
              "        vertical-align: top;\n",
              "    }\n",
              "\n",
              "    .dataframe thead th {\n",
              "        text-align: right;\n",
              "    }\n",
              "</style>\n",
              "<table border=\"1\" class=\"dataframe\">\n",
              "  <thead>\n",
              "    <tr style=\"text-align: right;\">\n",
              "      <th></th>\n",
              "      <th>0</th>\n",
              "    </tr>\n",
              "  </thead>\n",
              "  <tbody>\n",
              "    <tr>\n",
              "      <th>br_000</th>\n",
              "      <td>82.10</td>\n",
              "    </tr>\n",
              "    <tr>\n",
              "      <th>bq_000</th>\n",
              "      <td>80.86</td>\n",
              "    </tr>\n",
              "    <tr>\n",
              "      <th>bp_000</th>\n",
              "      <td>79.20</td>\n",
              "    </tr>\n",
              "    <tr>\n",
              "      <th>ab_000</th>\n",
              "      <td>76.98</td>\n",
              "    </tr>\n",
              "    <tr>\n",
              "      <th>cr_000</th>\n",
              "      <td>76.98</td>\n",
              "    </tr>\n",
              "    <tr>\n",
              "      <th>bo_000</th>\n",
              "      <td>76.64</td>\n",
              "    </tr>\n",
              "    <tr>\n",
              "      <th>bn_000</th>\n",
              "      <td>72.62</td>\n",
              "    </tr>\n",
              "  </tbody>\n",
              "</table>\n",
              "</div>\n",
              "      <button class=\"colab-df-convert\" onclick=\"convertToInteractive('df-dd8157b5-9e49-4a88-9fec-e4329774b43b')\"\n",
              "              title=\"Convert this dataframe to an interactive table.\"\n",
              "              style=\"display:none;\">\n",
              "        \n",
              "  <svg xmlns=\"http://www.w3.org/2000/svg\" height=\"24px\"viewBox=\"0 0 24 24\"\n",
              "       width=\"24px\">\n",
              "    <path d=\"M0 0h24v24H0V0z\" fill=\"none\"/>\n",
              "    <path d=\"M18.56 5.44l.94 2.06.94-2.06 2.06-.94-2.06-.94-.94-2.06-.94 2.06-2.06.94zm-11 1L8.5 8.5l.94-2.06 2.06-.94-2.06-.94L8.5 2.5l-.94 2.06-2.06.94zm10 10l.94 2.06.94-2.06 2.06-.94-2.06-.94-.94-2.06-.94 2.06-2.06.94z\"/><path d=\"M17.41 7.96l-1.37-1.37c-.4-.4-.92-.59-1.43-.59-.52 0-1.04.2-1.43.59L10.3 9.45l-7.72 7.72c-.78.78-.78 2.05 0 2.83L4 21.41c.39.39.9.59 1.41.59.51 0 1.02-.2 1.41-.59l7.78-7.78 2.81-2.81c.8-.78.8-2.07 0-2.86zM5.41 20L4 18.59l7.72-7.72 1.47 1.35L5.41 20z\"/>\n",
              "  </svg>\n",
              "      </button>\n",
              "      \n",
              "  <style>\n",
              "    .colab-df-container {\n",
              "      display:flex;\n",
              "      flex-wrap:wrap;\n",
              "      gap: 12px;\n",
              "    }\n",
              "\n",
              "    .colab-df-convert {\n",
              "      background-color: #E8F0FE;\n",
              "      border: none;\n",
              "      border-radius: 50%;\n",
              "      cursor: pointer;\n",
              "      display: none;\n",
              "      fill: #1967D2;\n",
              "      height: 32px;\n",
              "      padding: 0 0 0 0;\n",
              "      width: 32px;\n",
              "    }\n",
              "\n",
              "    .colab-df-convert:hover {\n",
              "      background-color: #E2EBFA;\n",
              "      box-shadow: 0px 1px 2px rgba(60, 64, 67, 0.3), 0px 1px 3px 1px rgba(60, 64, 67, 0.15);\n",
              "      fill: #174EA6;\n",
              "    }\n",
              "\n",
              "    [theme=dark] .colab-df-convert {\n",
              "      background-color: #3B4455;\n",
              "      fill: #D2E3FC;\n",
              "    }\n",
              "\n",
              "    [theme=dark] .colab-df-convert:hover {\n",
              "      background-color: #434B5C;\n",
              "      box-shadow: 0px 1px 3px 1px rgba(0, 0, 0, 0.15);\n",
              "      filter: drop-shadow(0px 1px 2px rgba(0, 0, 0, 0.3));\n",
              "      fill: #FFFFFF;\n",
              "    }\n",
              "  </style>\n",
              "\n",
              "      <script>\n",
              "        const buttonEl =\n",
              "          document.querySelector('#df-dd8157b5-9e49-4a88-9fec-e4329774b43b button.colab-df-convert');\n",
              "        buttonEl.style.display =\n",
              "          google.colab.kernel.accessAllowed ? 'block' : 'none';\n",
              "\n",
              "        async function convertToInteractive(key) {\n",
              "          const element = document.querySelector('#df-dd8157b5-9e49-4a88-9fec-e4329774b43b');\n",
              "          const dataTable =\n",
              "            await google.colab.kernel.invokeFunction('convertToInteractive',\n",
              "                                                     [key], {});\n",
              "          if (!dataTable) return;\n",
              "\n",
              "          const docLinkHtml = 'Like what you see? Visit the ' +\n",
              "            '<a target=\"_blank\" href=https://colab.research.google.com/notebooks/data_table.ipynb>data table notebook</a>'\n",
              "            + ' to learn more about interactive tables.';\n",
              "          element.innerHTML = '';\n",
              "          dataTable['output_type'] = 'display_data';\n",
              "          await google.colab.output.renderOutput(dataTable, element);\n",
              "          const docLink = document.createElement('div');\n",
              "          docLink.innerHTML = docLinkHtml;\n",
              "          element.appendChild(docLink);\n",
              "        }\n",
              "      </script>\n",
              "    </div>\n",
              "  </div>\n",
              "  "
            ]
          },
          "metadata": {},
          "execution_count": 11
        }
      ],
      "source": [
        "## Dropping columns which has more than 70% of missing values\n",
        "dropcols = missing[missing[0]>70]\n",
        "dropcols"
      ]
    },
    {
      "cell_type": "code",
      "execution_count": 12,
      "metadata": {
        "id": "wTspo0VeDPk9"
      },
      "outputs": [],
      "source": [
        "df.drop(list(dropcols.index), axis=1, inplace=True)"
      ]
    },
    {
      "cell_type": "code",
      "execution_count": 13,
      "metadata": {
        "colab": {
          "base_uri": "https://localhost:8080/"
        },
        "id": "ur8nM9DoDPk9",
        "outputId": "f0782a58-d885-4194-a0c6-64e0765d8720"
      },
      "outputs": [
        {
          "output_type": "execute_result",
          "data": {
            "text/plain": [
              "(5000, 164)"
            ]
          },
          "metadata": {},
          "execution_count": 13
        }
      ],
      "source": [
        "# Check shape of the dataset after dropping columns\n",
        "df.shape"
      ]
    },
    {
      "cell_type": "code",
      "execution_count": 14,
      "metadata": {
        "colab": {
          "base_uri": "https://localhost:8080/"
        },
        "id": "nJtxh0hTDPk9",
        "outputId": "c510c1f0-e038-472b-e564-04eea5c35d6c"
      },
      "outputs": [
        {
          "output_type": "stream",
          "name": "stdout",
          "text": [
            "Percentage of total missing cells in the data 5.412195121951219%\n"
          ]
        }
      ],
      "source": [
        "missing_values_count= df.isnull().sum()\n",
        "total_cells = np.product(df.shape)\n",
        "total_missing = missing_values_count.sum()\n",
        "\n",
        "# percent of data that is missing\n",
        "print(f\"Percentage of total missing cells in the data {(total_missing/total_cells) * 100}%\")"
      ]
    },
    {
      "cell_type": "markdown",
      "metadata": {
        "id": "b-LNoAWmDPk9"
      },
      "source": [
        "## Visualization of unique values in Target variable"
      ]
    },
    {
      "cell_type": "code",
      "execution_count": 15,
      "metadata": {
        "colab": {
          "base_uri": "https://localhost:8080/",
          "height": 386
        },
        "id": "_fnuflGVDPk9",
        "outputId": "eba9da09-a535-4036-e508-6e9005beb654"
      },
      "outputs": [
        {
          "output_type": "stream",
          "name": "stdout",
          "text": [
            "Positive: 91, Negative: 4909\n"
          ]
        },
        {
          "output_type": "display_data",
          "data": {
            "text/plain": [
              "<Figure size 360x360 with 1 Axes>"
            ],
            "image/png": "[encoded data removed]"
          },
          "metadata": {
            "needs_background": "light"
          }
        }
      ],
      "source": [
        "pos = df[df['class']=='pos'].shape[0]\n",
        "neg = df[df['class']=='neg'].shape[0]\n",
        "print(\"Positive: \" + str(pos) + \", Negative: \" + str(neg))\n",
        "sns.catplot(data=df, x=\"class\", kind=\"count\", palette=\"winter_r\", alpha=.6)\n",
        "plt.show()"
      ]
    },
    {
      "cell_type": "markdown",
      "metadata": {
        "id": "uHN5FXZ_DPk-"
      },
      "source": [
        "**Report**\n",
        "- The target classes are highly imbalanced\n",
        "- Class imbalance is a scenario that arises when we have unequal distribution of class in a dataset i.e. the no. of data points in the negative class (majority class) very large compared to that of the positive class (minority class)\n",
        "- If the imbalanced data is not treated beforehand, then this will degrade the performance of the classifier model. \n",
        "- Hence we should handle imbalanced data with certain methods.\n",
        "\n",
        "**How to handle Imbalance Data ?**\n",
        "\n",
        "- Resampling data is one of the most commonly preferred approaches to deal with an imbalanced dataset. There are broadly two types of methods for this i) Undersampling ii) Oversampling. In most cases, oversampling is preferred over undersampling techniques. The reason being, in undersampling we tend to remove instances from data that may be carrying some important information.\n",
        "- **SMOTE:** Synthetic Minority Oversampling Technique\n",
        "- SMOTE is an oversampling technique where the synthetic samples are generated for the minority class.\n",
        "- Hybridization techniques involve combining both undersampling and oversampling techniques. This is done to optimize the performance of classifier models for the samples created as part of these techniques.\n",
        "- It only duplicates the data and it won't add and new information. Hence we look at some different techniques."
      ]
    },
    {
      "cell_type": "markdown",
      "metadata": {
        "id": "yS6P9_7-DPk-"
      },
      "source": [
        "## Create Functions for model training and evaluation"
      ]
    },
    {
      "cell_type": "code",
      "execution_count": 16,
      "metadata": {
        "id": "FGMH8F1VDPk-"
      },
      "outputs": [],
      "source": [
        "def evaluate_clf(true, predicted):\n",
        "    '''\n",
        "    This function takes in true values and predicted values\n",
        "    Returns: Accuracy, F1-Score, Precision, Recall, Roc-auc Score\n",
        "    '''\n",
        "    acc = accuracy_score(true, predicted) # Calculate Accuracy\n",
        "    f1 = f1_score(true, predicted) # Calculate F1-score\n",
        "    precision = precision_score(true, predicted) # Calculate Precision\n",
        "    recall = recall_score(true, predicted)  # Calculate Recall\n",
        "    roc_auc = roc_auc_score(true, predicted) #Calculate Roc\n",
        "    return acc, f1 , precision, recall, roc_auc"
      ]
    },
    {
      "cell_type": "code",
      "execution_count": 17,
      "metadata": {
        "id": "jerjNKiHDPk-"
      },
      "outputs": [],
      "source": [
        "# Create cost of the model as per data description\n",
        "def total_cost(y_true, y_pred):\n",
        "    '''\n",
        "    This function takes y_ture, y_predicted, and prints Total cost due to misclassification\n",
        "   \n",
        "    '''\n",
        "    tn, fp, fn, tp = confusion_matrix(y_true, y_pred).ravel()\n",
        "    cost = 10*fp + 500*fn\n",
        "    return cost"
      ]
    },
    {
      "cell_type": "code",
      "execution_count": 18,
      "metadata": {
        "id": "3C0NYfpVDPk-"
      },
      "outputs": [],
      "source": [
        "# Create a function which can evaluate models and return a report \n",
        "def evaluate_models(X, y, models):\n",
        "    '''\n",
        "    This function takes in X and y and models dictionary as input\n",
        "    It splits the data into Train Test split\n",
        "    Iterates through the given model dictionary and evaluates the metrics\n",
        "    Returns: Dataframe which contains report of all models metrics with cost\n",
        "    '''\n",
        "    # separate dataset into train and test\n",
        "    X_train, X_test, y_train, y_test = train_test_split(X,y,test_size=0.2,random_state=42)\n",
        "    \n",
        "    cost_list=[]\n",
        "    models_list = []\n",
        "    accuracy_list = []\n",
        "    \n",
        "    for i in range(len(list(models))):\n",
        "        model = list(models.values())[i]\n",
        "        model.fit(X_train, y_train) # Train model\n",
        "\n",
        "        # Make predictions\n",
        "        y_train_pred = model.predict(X_train)\n",
        "        y_test_pred = model.predict(X_test)\n",
        "\n",
        "        # Training set performance\n",
        "        model_train_accuracy, model_train_f1,model_train_precision,\\\n",
        "        model_train_recall,model_train_rocauc_score=evaluate_clf(y_train ,y_train_pred)\n",
        "        train_cost = total_cost(y_train, y_train_pred)\n",
        "\n",
        "\n",
        "        # Test set performance\n",
        "        model_test_accuracy,model_test_f1,model_test_precision,\\\n",
        "        model_test_recall,model_test_rocauc_score=evaluate_clf(y_test, y_test_pred)\n",
        "        test_cost = total_cost(y_test, y_test_pred)\n",
        "\n",
        "        print(list(models.keys())[i])\n",
        "        models_list.append(list(models.keys())[i])\n",
        "\n",
        "        print('Model performance for Training set')\n",
        "        print(\"- Accuracy: {:.4f}\".format(model_train_accuracy))\n",
        "        print('- F1 score: {:.4f}'.format(model_train_f1)) \n",
        "        print('- Precision: {:.4f}'.format(model_train_precision))\n",
        "        print('- Recall: {:.4f}'.format(model_train_recall))\n",
        "        print('- Roc Auc Score: {:.4f}'.format(model_train_rocauc_score))\n",
        "        print(f'- COST: {train_cost}.')\n",
        "\n",
        "        print('----------------------------------')\n",
        "\n",
        "        print('Model performance for Test set')\n",
        "        print('- Accuracy: {:.4f}'.format(model_test_accuracy))\n",
        "        print('- F1 score: {:.4f}'.format(model_test_f1))\n",
        "        print('- Precision: {:.4f}'.format(model_test_precision))\n",
        "        print('- Recall: {:.4f}'.format(model_test_recall))\n",
        "        print('- Roc Auc Score: {:.4f}'.format(model_test_rocauc_score))\n",
        "        print(f'- COST: {test_cost}.')\n",
        "        cost_list.append(test_cost)\n",
        "        print('='*35)\n",
        "        print('\\n')\n",
        "        \n",
        "    report=pd.DataFrame(list(zip(models_list, cost_list)), columns=['Model Name', 'Cost']).sort_values(by=[\"Cost\"])\n",
        "        \n",
        "    return report"
      ]
    },
    {
      "cell_type": "markdown",
      "metadata": {
        "id": "krr_Hk0RDPk_"
      },
      "source": [
        "# Evaluate Model on Different experiments"
      ]
    },
    {
      "cell_type": "code",
      "execution_count": 20,
      "metadata": {
        "id": "qDgWdH9ZDPk_"
      },
      "outputs": [],
      "source": [
        "# Splitting X and y for all Experiments\n",
        "X= df.drop('class', axis=1)\n",
        "y = df['class']"
      ]
    },
    {
      "cell_type": "markdown",
      "metadata": {
        "id": "8abNcmWzDPk_"
      },
      "source": [
        "- **Manually Encoding Target Variable**"
      ]
    },
    {
      "cell_type": "code",
      "execution_count": 21,
      "metadata": {
        "scrolled": true,
        "id": "0Mri_UBaDPk_"
      },
      "outputs": [],
      "source": [
        "y= y.replace({'pos': 1, 'neg': 0})"
      ]
    },
    {
      "cell_type": "markdown",
      "metadata": {
        "id": "LWwSWPvQDPk_"
      },
      "source": [
        "### Experiment: 1 = KNN Imputer for Null values"
      ]
    },
    {
      "cell_type": "markdown",
      "metadata": {
        "id": "B4ybwc40DPk_"
      },
      "source": [
        "**Why Robust scaler and not Standard scaler?**\n",
        "- Scaling the data using Robust scaler\n",
        "- Since most of the independent variables are not normally distributed we cannot use Standardscaler"
      ]
    },
    {
      "cell_type": "markdown",
      "metadata": {
        "id": "fjKBxkWsDPk_"
      },
      "source": [
        "**Why Robust Scaler and not Minmax?** \n",
        "- because most of the feature has outliers. So Minmax will scale data according to Max values which is outlier.\n",
        "- This Scaler removes the median and scales the data according to the quantile range (defaults to IQR: Interquartile Range). The IQR is the range between the 1st quartile (25th quantile) and the 3rd quartile (75th quantile)."
      ]
    },
    {
      "cell_type": "code",
      "execution_count": 22,
      "metadata": {
        "id": "mRBr5AEzDPk_"
      },
      "outputs": [],
      "source": [
        "# Fit with robust scaler for KNN best K-selection experminet\n",
        "robustscaler = RobustScaler()\n",
        "X1 = robustscaler.fit_transform(X)"
      ]
    },
    {
      "cell_type": "markdown",
      "metadata": {
        "id": "7ny-mWmIDPk_"
      },
      "source": [
        "**Why KNN Imputer**?\n",
        "- KNNImputer by scikit-learn is a widely used method to impute missing values. It is widely being observed as a replacement for traditional imputation techniques.\n",
        "- KNNImputer helps to impute missing values present in the observations by finding the nearest neighbors with the Euclidean distance matrix.\n",
        "- Here we Iterates through different K values and get accuracy and choose best K values."
      ]
    },
    {
      "cell_type": "markdown",
      "metadata": {
        "id": "hr-yUpMvDPk_"
      },
      "source": [
        "**Finding the optimal n_neighbour value for KNN imputer**"
      ]
    },
    {
      "cell_type": "code",
      "execution_count": 23,
      "metadata": {
        "colab": {
          "base_uri": "https://localhost:8080/"
        },
        "id": "RWqw2jZyDPlA",
        "outputId": "686777dc-e467-4edb-bcd4-52863179adca"
      },
      "outputs": [
        {
          "output_type": "stream",
          "name": "stdout",
          "text": [
            "n_neighbors= 1 || accuracy (0.7614)\n",
            "n_neighbors= 3 || accuracy (0.7314)\n",
            "n_neighbors= 5 || accuracy (0.7524)\n",
            "n_neighbors= 7 || accuracy (0.7670)\n",
            "n_neighbors= 9 || accuracy (0.7356)\n"
          ]
        }
      ],
      "source": [
        "results=[]\n",
        "# define imputer\n",
        "imputer = KNNImputer(n_neighbors=5, weights='uniform', metric='nan_euclidean')\n",
        "strategies = [str(i) for i in [1,3,5,7,9]]\n",
        "for s in strategies:\n",
        "    pipeline = Pipeline(steps=[('i', KNNImputer(n_neighbors=int(s))), ('m', LogisticRegression())])\n",
        "    scores = cross_val_score(pipeline, X1, y, scoring='accuracy', cv=2, n_jobs=-1)\n",
        "    results.append(scores)\n",
        "    print('n_neighbors= %s || accuracy (%.4f)' % (s , mean(scores)))"
      ]
    },
    {
      "cell_type": "markdown",
      "metadata": {
        "id": "d3ZlCNQeDPlA"
      },
      "source": [
        "**We can observe n_neighbors=3 able to produce highest accuracy**"
      ]
    },
    {
      "cell_type": "markdown",
      "metadata": {
        "id": "x6TO9gfyDPlA"
      },
      "source": [
        "### Pipeline for KNN imputer"
      ]
    },
    {
      "cell_type": "code",
      "execution_count": 24,
      "metadata": {
        "id": "04afJlB9DPlA"
      },
      "outputs": [],
      "source": [
        "num_features = X.select_dtypes(exclude=\"object\").columns\n",
        "\n",
        "# Fit the KNN imputer with selected K-value\n",
        "knn_pipeline = Pipeline(steps=[\n",
        "    ('imputer', KNNImputer(n_neighbors=3)),\n",
        "    ('RobustScaler', RobustScaler())\n",
        "])"
      ]
    },
    {
      "cell_type": "code",
      "execution_count": 25,
      "metadata": {
        "id": "Z-3f9jYLDPlA"
      },
      "outputs": [],
      "source": [
        "X_knn =knn_pipeline.fit_transform(X)"
      ]
    },
    {
      "cell_type": "markdown",
      "metadata": {
        "id": "rEzPqJmEDPlA"
      },
      "source": [
        "## Handling Imbalanced data"
      ]
    },
    {
      "cell_type": "markdown",
      "metadata": {
        "id": "2cSFP3SKDPlA"
      },
      "source": [
        " **SMOTE+TOMEK** is one of such a hybrid technique that aims to clean overlapping data points for each of the classes distributed in sample space.\n",
        " \n",
        " - This method combines the SMOTE ability to generate synthetic data for minority class and Tomek Links ability to remove the data that are identified as Tomek links from the majority class\n",
        " \n",
        " - To add new data of minority class\n",
        " 1. Choose random data from the minority class.\n",
        " 2. Calculate the distance between the random data and its k nearest neighbors.\n",
        " 3. Multiply the difference with a random number between 0 and 1, then add the result to the minority class as a synthetic sample.\n",
        " 4. Repeat step number 2–3 until the desired proportion of minority class is met.\n",
        " \n",
        " - To remove the tomek links of the majority class\n",
        " 1. Choose random data from the majority class.\n",
        " 2. If the random data’s nearest neighbor is the data from the minority class (i.e. create the Tomek Link), then remove the Tomek Link.\n",
        " \n",
        " - This is method instead of adding duplicate data it synthesises the new data based on the already avalialble classes. Hence we choose this as our imputer method for this problem."
      ]
    },
    {
      "cell_type": "code",
      "execution_count": 26,
      "metadata": {
        "id": "bt9QHc0JDPlA"
      },
      "outputs": [],
      "source": [
        "from imblearn.combine import SMOTETomek\n",
        "\n",
        "# Resampling the minority class. The strategy can be changed as required.\n",
        "smt = SMOTETomek(random_state=42,sampling_strategy='minority',n_jobs=-1)\n",
        "# Fit the model to generate the data.\n",
        "X_res, y_res = smt.fit_resample(X_knn, y)"
      ]
    },
    {
      "cell_type": "markdown",
      "metadata": {
        "id": "SUkUo_nKDPlA"
      },
      "source": [
        "### Initialize Default Models in a dictionary"
      ]
    },
    {
      "cell_type": "code",
      "execution_count": 27,
      "metadata": {
        "id": "bmdVJvUkDPlB"
      },
      "outputs": [],
      "source": [
        "# Dictionary which contains models for experiment\n",
        "models = {\n",
        "    \"Random Forest\": RandomForestClassifier(),\n",
        "    \"Decision Tree\": DecisionTreeClassifier(),\n",
        "    \"Gradient Boosting\": GradientBoostingClassifier(),\n",
        "    \"Logistic Regression\": LogisticRegression(),\n",
        "     \"K-Neighbors Classifier\": KNeighborsClassifier(),\n",
        "    \"XGBClassifier\": XGBClassifier(), \n",
        "     \"CatBoosting Classifier\": CatBoostClassifier(verbose=False),\n",
        "    \"AdaBoost Classifier\": AdaBoostClassifier()\n",
        "}"
      ]
    },
    {
      "cell_type": "markdown",
      "metadata": {
        "id": "XKCJ2g0wDPlE"
      },
      "source": [
        "### Simple Imputer with Strategy Constant "
      ]
    },
    {
      "cell_type": "markdown",
      "metadata": {
        "id": "zoCzYF9nDPlE"
      },
      "source": [
        "- Another strategy which can be used is replacing missing values with a fixed (constant) value.\n",
        "- To do this, specify “constant” for strategy and specify the fill value using the fill_value parameter"
      ]
    },
    {
      "cell_type": "code",
      "execution_count": 34,
      "metadata": {
        "id": "sFVj9U1mDPlE"
      },
      "outputs": [],
      "source": [
        "# Create a pipeline with simple imputer with strategy constant and fill value 0\n",
        "constant_pipeline = Pipeline(steps=[\n",
        "    ('Imputer', SimpleImputer(strategy='constant', fill_value=0)),\n",
        "    ('RobustScaler', RobustScaler())\n",
        "])"
      ]
    },
    {
      "cell_type": "code",
      "execution_count": 35,
      "metadata": {
        "id": "JoBDzkG-DPlE"
      },
      "outputs": [],
      "source": [
        "X_const =constant_pipeline.fit_transform(X)"
      ]
    },
    {
      "cell_type": "code",
      "execution_count": 36,
      "metadata": {
        "id": "TuN8utvVDPlE"
      },
      "outputs": [],
      "source": [
        "# Resampling the minority class. The strategy can be changed as required.\n",
        "smt = SMOTETomek(random_state=42,sampling_strategy='minority', n_jobs=-1 )\n",
        "# Fit the model to generate the data.\n",
        "X_res, y_res = smt.fit_resample(X_const, y)"
      ]
    },
    {
      "cell_type": "code",
      "execution_count": 37,
      "metadata": {
        "scrolled": false,
        "colab": {
          "base_uri": "https://localhost:8080/"
        },
        "id": "QqsH--qVDPlE",
        "outputId": "bfc9b3cd-e635-4853-a0fe-2676e6b7ac21"
      },
      "outputs": [
        {
          "output_type": "stream",
          "name": "stdout",
          "text": [
            "Random Forest\n",
            "Model performance for Training set\n",
            "- Accuracy: 1.0000\n",
            "- F1 score: 1.0000\n",
            "- Precision: 1.0000\n",
            "- Recall: 1.0000\n",
            "- Roc Auc Score: 1.0000\n",
            "- COST: 0.\n",
            "----------------------------------\n",
            "Model performance for Test set\n",
            "- Accuracy: 0.9902\n",
            "- F1 score: 0.9900\n",
            "- Precision: 0.9803\n",
            "- Recall: 1.0000\n",
            "- Roc Auc Score: 0.9905\n",
            "- COST: 190.\n",
            "===================================\n",
            "\n",
            "\n",
            "Decision Tree\n",
            "Model performance for Training set\n",
            "- Accuracy: 1.0000\n",
            "- F1 score: 1.0000\n",
            "- Precision: 1.0000\n",
            "- Recall: 1.0000\n",
            "- Roc Auc Score: 1.0000\n",
            "- COST: 0.\n",
            "----------------------------------\n",
            "Model performance for Test set\n",
            "- Accuracy: 0.9933\n",
            "- F1 score: 0.9931\n",
            "- Precision: 0.9885\n",
            "- Recall: 0.9979\n",
            "- Roc Auc Score: 0.9934\n",
            "- COST: 1110.\n",
            "===================================\n",
            "\n",
            "\n",
            "Gradient Boosting\n",
            "Model performance for Training set\n",
            "- Accuracy: 0.9974\n",
            "- F1 score: 0.9975\n",
            "- Precision: 0.9954\n",
            "- Recall: 0.9995\n",
            "- Roc Auc Score: 0.9974\n",
            "- COST: 1180.\n",
            "----------------------------------\n",
            "Model performance for Test set\n",
            "- Accuracy: 0.9882\n",
            "- F1 score: 0.9879\n",
            "- Precision: 0.9782\n",
            "- Recall: 0.9979\n",
            "- Roc Auc Score: 0.9884\n",
            "- COST: 1210.\n",
            "===================================\n",
            "\n",
            "\n",
            "Logistic Regression\n",
            "Model performance for Training set\n",
            "- Accuracy: 0.6368\n",
            "- F1 score: 0.7325\n",
            "- Precision: 0.5821\n",
            "- Recall: 0.9877\n",
            "- Roc Auc Score: 0.6342\n",
            "- COST: 51750.\n",
            "----------------------------------\n",
            "Model performance for Test set\n",
            "- Accuracy: 0.6404\n",
            "- F1 score: 0.7275\n",
            "- Precision: 0.5756\n",
            "- Recall: 0.9883\n",
            "- Roc Auc Score: 0.6502\n",
            "- COST: 12380.\n",
            "===================================\n",
            "\n",
            "\n",
            "K-Neighbors Classifier\n",
            "Model performance for Training set\n",
            "- Accuracy: 0.9713\n",
            "- F1 score: 0.9720\n",
            "- Precision: 0.9569\n",
            "- Recall: 0.9875\n",
            "- Roc Auc Score: 0.9712\n",
            "- COST: 26240.\n",
            "----------------------------------\n",
            "Model performance for Test set\n",
            "- Accuracy: 0.9578\n",
            "- F1 score: 0.9575\n",
            "- Precision: 0.9380\n",
            "- Recall: 0.9778\n",
            "- Roc Auc Score: 0.9584\n",
            "- COST: 11110.\n",
            "===================================\n",
            "\n",
            "\n",
            "XGBClassifier\n",
            "Model performance for Training set\n",
            "- Accuracy: 1.0000\n",
            "- F1 score: 1.0000\n",
            "- Precision: 1.0000\n",
            "- Recall: 1.0000\n",
            "- Roc Auc Score: 1.0000\n",
            "- COST: 0.\n",
            "----------------------------------\n",
            "Model performance for Test set\n",
            "- Accuracy: 0.9938\n",
            "- F1 score: 0.9937\n",
            "- Precision: 0.9874\n",
            "- Recall: 1.0000\n",
            "- Roc Auc Score: 0.9940\n",
            "- COST: 120.\n",
            "===================================\n",
            "\n",
            "\n",
            "CatBoosting Classifier\n",
            "Model performance for Training set\n",
            "- Accuracy: 1.0000\n",
            "- F1 score: 1.0000\n",
            "- Precision: 1.0000\n",
            "- Recall: 1.0000\n",
            "- Roc Auc Score: 1.0000\n",
            "- COST: 0.\n",
            "----------------------------------\n",
            "Model performance for Test set\n",
            "- Accuracy: 0.9918\n",
            "- F1 score: 0.9916\n",
            "- Precision: 0.9833\n",
            "- Recall: 1.0000\n",
            "- Roc Auc Score: 0.9920\n",
            "- COST: 160.\n",
            "===================================\n",
            "\n",
            "\n",
            "AdaBoost Classifier\n",
            "Model performance for Training set\n",
            "- Accuracy: 0.9919\n",
            "- F1 score: 0.9920\n",
            "- Precision: 0.9896\n",
            "- Recall: 0.9944\n",
            "- Roc Auc Score: 0.9919\n",
            "- COST: 11410.\n",
            "----------------------------------\n",
            "Model performance for Test set\n",
            "- Accuracy: 0.9882\n",
            "- F1 score: 0.9879\n",
            "- Precision: 0.9812\n",
            "- Recall: 0.9947\n",
            "- Roc Auc Score: 0.9884\n",
            "- COST: 2680.\n",
            "===================================\n",
            "\n",
            "\n"
          ]
        }
      ],
      "source": [
        "# training the models\n",
        "report_const = evaluate_models(X_res, y_res, models)"
      ]
    },
    {
      "cell_type": "markdown",
      "metadata": {
        "id": "onkULOmUDPlE"
      },
      "source": [
        "## Report for Simple Imputer with Constant strategy"
      ]
    },
    {
      "cell_type": "code",
      "execution_count": 38,
      "metadata": {
        "colab": {
          "base_uri": "https://localhost:8080/",
          "height": 300
        },
        "id": "WmJ4RXVVDPlF",
        "outputId": "11d40c23-7278-4bbf-c35e-c7e49f41a652"
      },
      "outputs": [
        {
          "output_type": "execute_result",
          "data": {
            "text/plain": [
              "               Model Name   Cost\n",
              "5           XGBClassifier    120\n",
              "6  CatBoosting Classifier    160\n",
              "0           Random Forest    190\n",
              "1           Decision Tree   1110\n",
              "2       Gradient Boosting   1210\n",
              "7     AdaBoost Classifier   2680\n",
              "4  K-Neighbors Classifier  11110\n",
              "3     Logistic Regression  12380"
            ],
            "text/html": [
              "\n",
              "  <div id=\"df-1f772b15-0f8a-4c21-b4df-954c19ceba92\">\n",
              "    <div class=\"colab-df-container\">\n",
              "      <div>\n",
              "<style scoped>\n",
              "    .dataframe tbody tr th:only-of-type {\n",
              "        vertical-align: middle;\n",
              "    }\n",
              "\n",
              "    .dataframe tbody tr th {\n",
              "        vertical-align: top;\n",
              "    }\n",
              "\n",
              "    .dataframe thead th {\n",
              "        text-align: right;\n",
              "    }\n",
              "</style>\n",
              "<table border=\"1\" class=\"dataframe\">\n",
              "  <thead>\n",
              "    <tr style=\"text-align: right;\">\n",
              "      <th></th>\n",
              "      <th>Model Name</th>\n",
              "      <th>Cost</th>\n",
              "    </tr>\n",
              "  </thead>\n",
              "  <tbody>\n",
              "    <tr>\n",
              "      <th>5</th>\n",
              "      <td>XGBClassifier</td>\n",
              "      <td>120</td>\n",
              "    </tr>\n",
              "    <tr>\n",
              "      <th>6</th>\n",
              "      <td>CatBoosting Classifier</td>\n",
              "      <td>160</td>\n",
              "    </tr>\n",
              "    <tr>\n",
              "      <th>0</th>\n",
              "      <td>Random Forest</td>\n",
              "      <td>190</td>\n",
              "    </tr>\n",
              "    <tr>\n",
              "      <th>1</th>\n",
              "      <td>Decision Tree</td>\n",
              "      <td>1110</td>\n",
              "    </tr>\n",
              "    <tr>\n",
              "      <th>2</th>\n",
              "      <td>Gradient Boosting</td>\n",
              "      <td>1210</td>\n",
              "    </tr>\n",
              "    <tr>\n",
              "      <th>7</th>\n",
              "      <td>AdaBoost Classifier</td>\n",
              "      <td>2680</td>\n",
              "    </tr>\n",
              "    <tr>\n",
              "      <th>4</th>\n",
              "      <td>K-Neighbors Classifier</td>\n",
              "      <td>11110</td>\n",
              "    </tr>\n",
              "    <tr>\n",
              "      <th>3</th>\n",
              "      <td>Logistic Regression</td>\n",
              "      <td>12380</td>\n",
              "    </tr>\n",
              "  </tbody>\n",
              "</table>\n",
              "</div>\n",
              "      <button class=\"colab-df-convert\" onclick=\"convertToInteractive('df-1f772b15-0f8a-4c21-b4df-954c19ceba92')\"\n",
              "              title=\"Convert this dataframe to an interactive table.\"\n",
              "              style=\"display:none;\">\n",
              "        \n",
              "  <svg xmlns=\"http://www.w3.org/2000/svg\" height=\"24px\"viewBox=\"0 0 24 24\"\n",
              "       width=\"24px\">\n",
              "    <path d=\"M0 0h24v24H0V0z\" fill=\"none\"/>\n",
              "    <path d=\"M18.56 5.44l.94 2.06.94-2.06 2.06-.94-2.06-.94-.94-2.06-.94 2.06-2.06.94zm-11 1L8.5 8.5l.94-2.06 2.06-.94-2.06-.94L8.5 2.5l-.94 2.06-2.06.94zm10 10l.94 2.06.94-2.06 2.06-.94-2.06-.94-.94-2.06-.94 2.06-2.06.94z\"/><path d=\"M17.41 7.96l-1.37-1.37c-.4-.4-.92-.59-1.43-.59-.52 0-1.04.2-1.43.59L10.3 9.45l-7.72 7.72c-.78.78-.78 2.05 0 2.83L4 21.41c.39.39.9.59 1.41.59.51 0 1.02-.2 1.41-.59l7.78-7.78 2.81-2.81c.8-.78.8-2.07 0-2.86zM5.41 20L4 18.59l7.72-7.72 1.47 1.35L5.41 20z\"/>\n",
              "  </svg>\n",
              "      </button>\n",
              "      \n",
              "  <style>\n",
              "    .colab-df-container {\n",
              "      display:flex;\n",
              "      flex-wrap:wrap;\n",
              "      gap: 12px;\n",
              "    }\n",
              "\n",
              "    .colab-df-convert {\n",
              "      background-color: #E8F0FE;\n",
              "      border: none;\n",
              "      border-radius: 50%;\n",
              "      cursor: pointer;\n",
              "      display: none;\n",
              "      fill: #1967D2;\n",
              "      height: 32px;\n",
              "      padding: 0 0 0 0;\n",
              "      width: 32px;\n",
              "    }\n",
              "\n",
              "    .colab-df-convert:hover {\n",
              "      background-color: #E2EBFA;\n",
              "      box-shadow: 0px 1px 2px rgba(60, 64, 67, 0.3), 0px 1px 3px 1px rgba(60, 64, 67, 0.15);\n",
              "      fill: #174EA6;\n",
              "    }\n",
              "\n",
              "    [theme=dark] .colab-df-convert {\n",
              "      background-color: #3B4455;\n",
              "      fill: #D2E3FC;\n",
              "    }\n",
              "\n",
              "    [theme=dark] .colab-df-convert:hover {\n",
              "      background-color: #434B5C;\n",
              "      box-shadow: 0px 1px 3px 1px rgba(0, 0, 0, 0.15);\n",
              "      filter: drop-shadow(0px 1px 2px rgba(0, 0, 0, 0.3));\n",
              "      fill: #FFFFFF;\n",
              "    }\n",
              "  </style>\n",
              "\n",
              "      <script>\n",
              "        const buttonEl =\n",
              "          document.querySelector('#df-1f772b15-0f8a-4c21-b4df-954c19ceba92 button.colab-df-convert');\n",
              "        buttonEl.style.display =\n",
              "          google.colab.kernel.accessAllowed ? 'block' : 'none';\n",
              "\n",
              "        async function convertToInteractive(key) {\n",
              "          const element = document.querySelector('#df-1f772b15-0f8a-4c21-b4df-954c19ceba92');\n",
              "          const dataTable =\n",
              "            await google.colab.kernel.invokeFunction('convertToInteractive',\n",
              "                                                     [key], {});\n",
              "          if (!dataTable) return;\n",
              "\n",
              "          const docLinkHtml = 'Like what you see? Visit the ' +\n",
              "            '<a target=\"_blank\" href=https://colab.research.google.com/notebooks/data_table.ipynb>data table notebook</a>'\n",
              "            + ' to learn more about interactive tables.';\n",
              "          element.innerHTML = '';\n",
              "          dataTable['output_type'] = 'display_data';\n",
              "          await google.colab.output.renderOutput(dataTable, element);\n",
              "          const docLink = document.createElement('div');\n",
              "          docLink.innerHTML = docLinkHtml;\n",
              "          element.appendChild(docLink);\n",
              "        }\n",
              "      </script>\n",
              "    </div>\n",
              "  </div>\n",
              "  "
            ]
          },
          "metadata": {},
          "execution_count": 38
        }
      ],
      "source": [
        "report_const"
      ]
    },
    {
      "cell_type": "markdown",
      "metadata": {
        "id": "2J0DEFpRDPlF"
      },
      "source": [
        "**Insights**\n",
        "- For the Experiment 4: Simple imputer with constant strategy has XGBoost classifier as the best Model\n",
        "- Proceeding with further experiments "
      ]
    },
    {
      "cell_type": "markdown",
      "metadata": {
        "id": "eV87uiS5DPlG"
      },
      "source": [
        "### Experiment: 5 = Principle component analysis with imputing median"
      ]
    },
    {
      "cell_type": "markdown",
      "metadata": {
        "id": "JfMmxDbADPlH"
      },
      "source": [
        "- Principal component analysis is a technique for feature extraction — so it combines our input variables in a specific way, then we can drop the “least important” variables while still retaining the most valuable parts of all of the variables! \n",
        "- As the dataset has 164 columns we can try PCA and check our metrics Cost"
      ]
    },
    {
      "cell_type": "code",
      "execution_count": 41,
      "metadata": {
        "id": "D0cPgoBYDPlH"
      },
      "outputs": [],
      "source": [
        "from sklearn.decomposition import PCA"
      ]
    },
    {
      "cell_type": "code",
      "execution_count": 42,
      "metadata": {
        "id": "lfkjeKUwDPlH"
      },
      "outputs": [],
      "source": [
        "pca_pipeline = Pipeline(steps=[\n",
        "    ('Imputer', SimpleImputer(strategy='constant', fill_value=0)),\n",
        "    ('RobustScaler', RobustScaler())\n",
        "])"
      ]
    },
    {
      "cell_type": "code",
      "execution_count": 43,
      "metadata": {
        "id": "w1fdn6uaDPlH"
      },
      "outputs": [],
      "source": [
        "X_pca = pca_pipeline.fit_transform(X)"
      ]
    },
    {
      "cell_type": "code",
      "execution_count": 44,
      "metadata": {
        "id": "mnZUNfhbDPlH"
      },
      "outputs": [],
      "source": [
        "#Applying PCA\n",
        "from sklearn.decomposition import PCA\n",
        "var_ratio={}\n",
        "for n in range(2,150):\n",
        "    pc=PCA(n_components=n)\n",
        "    df_pca=pc.fit(X_pca)\n",
        "    var_ratio[n]=sum(df_pca.explained_variance_ratio_)"
      ]
    },
    {
      "cell_type": "markdown",
      "metadata": {
        "id": "5K97azSiDPlI"
      },
      "source": [
        "**Variance Plot**"
      ]
    },
    {
      "cell_type": "code",
      "execution_count": 45,
      "metadata": {
        "colab": {
          "base_uri": "https://localhost:8080/",
          "height": 282
        },
        "id": "aeKqeqNjDPlI",
        "outputId": "5bc9391d-98e3-497a-d080-8f30eb527b64"
      },
      "outputs": [
        {
          "output_type": "execute_result",
          "data": {
            "text/plain": [
              "<Axes: >"
            ]
          },
          "metadata": {},
          "execution_count": 45
        },
        {
          "output_type": "display_data",
          "data": {
            "text/plain": [
              "<Figure size 432x288 with 1 Axes>"
            ],
            "image/png": "[encoded data removed]"
          },
          "metadata": {
            "needs_background": "light"
          }
        }
      ],
      "source": [
        "# plotting variance ratio\n",
        "pd.Series(var_ratio).plot()"
      ]
    },
    {
      "cell_type": "markdown",
      "metadata": {
        "id": "yctZvf-DDPlI"
      },
      "source": [
        "**Kneed algorithm to find the elbow point**"
      ]
    },
    {
      "cell_type": "code",
      "source": [
        "# pip install kneed"
      ],
      "metadata": {
        "colab": {
          "base_uri": "https://localhost:8080/"
        },
        "id": "C9VQSuY8KF3z",
        "outputId": "293ae9cd-b977-44f0-a377-eb9e5076b439"
      },
      "execution_count": 47,
      "outputs": [
        {
          "output_type": "stream",
          "name": "stdout",
          "text": [
            "Looking in indexes: https://pypi.org/simple, https://us-python.pkg.dev/colab-wheels/public/simple/\n",
            "Collecting kneed\n",
            "  Downloading kneed-0.8.2-py3-none-any.whl (10 kB)\n",
            "Requirement already satisfied: scipy>=1.0.0 in /usr/local/lib/python3.9/dist-packages (from kneed) (1.10.1)\n",
            "Requirement already satisfied: numpy>=1.14.2 in /usr/local/lib/python3.9/dist-packages (from kneed) (1.22.4)\n",
            "Installing collected packages: kneed\n",
            "Successfully installed kneed-0.8.2\n"
          ]
        }
      ]
    },
    {
      "cell_type": "code",
      "execution_count": 48,
      "metadata": {
        "colab": {
          "base_uri": "https://localhost:8080/",
          "height": 439
        },
        "id": "L5MUdrXfDPlI",
        "outputId": "95e0d24e-b18a-4a89-c246-35cb638b362d"
      },
      "outputs": [
        {
          "output_type": "display_data",
          "data": {
            "text/plain": [
              "<Figure size 360x360 with 0 Axes>"
            ]
          },
          "metadata": {}
        },
        {
          "output_type": "display_data",
          "data": {
            "text/plain": [
              "<Figure size 432x432 with 1 Axes>"
            ],
            "image/png": "[encoded data removed]"
          },
          "metadata": {
            "needs_background": "light"
          }
        },
        {
          "output_type": "stream",
          "name": "stdout",
          "text": [
            "Knee Locator k = 17\n"
          ]
        }
      ],
      "source": [
        "from kneed import KneeLocator\n",
        "\n",
        "i = np.arange(len(var_ratio))\n",
        "variance_ratio= list(var_ratio.values())\n",
        "components=  list(var_ratio.keys())\n",
        "knee = KneeLocator(i, variance_ratio, S=1, curve='concave', interp_method='polynomial')\n",
        "\n",
        "fig = plt.figure(figsize=(5, 5))\n",
        "knee.plot_knee()\n",
        "plt.xlabel(\"Points\")\n",
        "plt.ylabel(\"Distance\")\n",
        "plt.show()\n",
        "k= components[knee.knee]\n",
        "print('Knee Locator k =', k)"
      ]
    },
    {
      "cell_type": "code",
      "execution_count": 49,
      "metadata": {
        "id": "XUulEVxQDPlI"
      },
      "outputs": [],
      "source": [
        "# Reducing the dimensions of the data \n",
        "pca_final=PCA(n_components=18,random_state=42).fit(X_res)\n",
        "\n",
        "reduced=pca_final.fit_transform(X_pca)"
      ]
    },
    {
      "cell_type": "code",
      "execution_count": 50,
      "metadata": {
        "id": "l91vbhNoDPlI"
      },
      "outputs": [],
      "source": [
        "# Resampling the minority class. The strategy can be changed as required.\n",
        "smt = SMOTETomek(random_state=42,sampling_strategy='minority', n_jobs=-1)\n",
        "# Fit the model to generate the data.\n",
        "X_res, y_res = smt.fit_resample(reduced, y)"
      ]
    },
    {
      "cell_type": "code",
      "execution_count": 51,
      "metadata": {
        "scrolled": false,
        "colab": {
          "base_uri": "https://localhost:8080/"
        },
        "id": "m2wTRnCODPlJ",
        "outputId": "c012ea6c-0191-4311-e1ad-09ed5fbfcc8e"
      },
      "outputs": [
        {
          "output_type": "stream",
          "name": "stdout",
          "text": [
            "Random Forest\n",
            "Model performance for Training set\n",
            "- Accuracy: 0.9999\n",
            "- F1 score: 0.9999\n",
            "- Precision: 1.0000\n",
            "- Recall: 0.9997\n",
            "- Roc Auc Score: 0.9999\n",
            "- COST: 500.\n",
            "----------------------------------\n",
            "Model performance for Test set\n",
            "- Accuracy: 0.9741\n",
            "- F1 score: 0.9736\n",
            "- Precision: 0.9644\n",
            "- Recall: 0.9829\n",
            "- Roc Auc Score: 0.9743\n",
            "- COST: 8340.\n",
            "===================================\n",
            "\n",
            "\n",
            "Decision Tree\n",
            "Model performance for Training set\n",
            "- Accuracy: 0.9999\n",
            "- F1 score: 0.9999\n",
            "- Precision: 1.0000\n",
            "- Recall: 0.9997\n",
            "- Roc Auc Score: 0.9999\n",
            "- COST: 500.\n",
            "----------------------------------\n",
            "Model performance for Test set\n",
            "- Accuracy: 0.9658\n",
            "- F1 score: 0.9652\n",
            "- Precision: 0.9561\n",
            "- Recall: 0.9744\n",
            "- Roc Auc Score: 0.9660\n",
            "- COST: 12420.\n",
            "===================================\n",
            "\n",
            "\n",
            "Gradient Boosting\n",
            "Model performance for Training set\n",
            "- Accuracy: 0.9737\n",
            "- F1 score: 0.9741\n",
            "- Precision: 0.9649\n",
            "- Recall: 0.9835\n",
            "- Roc Auc Score: 0.9736\n",
            "- COST: 33390.\n",
            "----------------------------------\n",
            "Model performance for Test set\n",
            "- Accuracy: 0.9611\n",
            "- F1 score: 0.9605\n",
            "- Precision: 0.9481\n",
            "- Recall: 0.9733\n",
            "- Roc Auc Score: 0.9615\n",
            "- COST: 13000.\n",
            "===================================\n",
            "\n",
            "\n",
            "Logistic Regression\n",
            "Model performance for Training set\n",
            "- Accuracy: 0.8537\n",
            "- F1 score: 0.8430\n",
            "- Precision: 0.9168\n",
            "- Recall: 0.7802\n",
            "- Roc Auc Score: 0.8542\n",
            "- COST: 429750.\n",
            "----------------------------------\n",
            "Model performance for Test set\n",
            "- Accuracy: 0.8575\n",
            "- F1 score: 0.8433\n",
            "- Precision: 0.9058\n",
            "- Recall: 0.7889\n",
            "- Roc Auc Score: 0.8556\n",
            "- COST: 99770.\n",
            "===================================\n",
            "\n",
            "\n",
            "K-Neighbors Classifier\n",
            "Model performance for Training set\n",
            "- Accuracy: 0.9692\n",
            "- F1 score: 0.9698\n",
            "- Precision: 0.9569\n",
            "- Recall: 0.9830\n",
            "- Roc Auc Score: 0.9691\n",
            "- COST: 34720.\n",
            "----------------------------------\n",
            "Model performance for Test set\n",
            "- Accuracy: 0.9554\n",
            "- F1 score: 0.9551\n",
            "- Precision: 0.9365\n",
            "- Recall: 0.9744\n",
            "- Roc Auc Score: 0.9560\n",
            "- COST: 12620.\n",
            "===================================\n",
            "\n",
            "\n",
            "XGBClassifier\n",
            "Model performance for Training set\n",
            "- Accuracy: 0.9996\n",
            "- F1 score: 0.9996\n",
            "- Precision: 0.9997\n",
            "- Recall: 0.9995\n",
            "- Roc Auc Score: 0.9996\n",
            "- COST: 1010.\n",
            "----------------------------------\n",
            "Model performance for Test set\n",
            "- Accuracy: 0.9777\n",
            "- F1 score: 0.9772\n",
            "- Precision: 0.9715\n",
            "- Recall: 0.9829\n",
            "- Roc Auc Score: 0.9779\n",
            "- COST: 8270.\n",
            "===================================\n",
            "\n",
            "\n",
            "CatBoosting Classifier\n",
            "Model performance for Training set\n",
            "- Accuracy: 0.9934\n",
            "- F1 score: 0.9935\n",
            "- Precision: 0.9910\n",
            "- Recall: 0.9959\n",
            "- Roc Auc Score: 0.9934\n",
            "- COST: 8350.\n",
            "----------------------------------\n",
            "Model performance for Test set\n",
            "- Accuracy: 0.9762\n",
            "- F1 score: 0.9757\n",
            "- Precision: 0.9675\n",
            "- Recall: 0.9840\n",
            "- Roc Auc Score: 0.9764\n",
            "- COST: 7810.\n",
            "===================================\n",
            "\n",
            "\n",
            "AdaBoost Classifier\n",
            "Model performance for Training set\n",
            "- Accuracy: 0.9528\n",
            "- F1 score: 0.9538\n",
            "- Precision: 0.9413\n",
            "- Recall: 0.9665\n",
            "- Roc Auc Score: 0.9527\n",
            "- COST: 67340.\n",
            "----------------------------------\n",
            "Model performance for Test set\n",
            "- Accuracy: 0.9456\n",
            "- F1 score: 0.9447\n",
            "- Precision: 0.9334\n",
            "- Recall: 0.9563\n",
            "- Roc Auc Score: 0.9459\n",
            "- COST: 21140.\n",
            "===================================\n",
            "\n",
            "\n"
          ]
        }
      ],
      "source": [
        "# Training all models\n",
        "report_pca = evaluate_models(X_res,y_res, models)"
      ]
    },
    {
      "cell_type": "markdown",
      "metadata": {
        "id": "LSREk7i_DPlJ"
      },
      "source": [
        "### Report for PCA and Mean imputed data"
      ]
    },
    {
      "cell_type": "code",
      "execution_count": 52,
      "metadata": {
        "colab": {
          "base_uri": "https://localhost:8080/",
          "height": 300
        },
        "id": "8XddWSAxDPlJ",
        "outputId": "74f5b4c4-85bf-495e-96e8-34a1601d5cea"
      },
      "outputs": [
        {
          "output_type": "execute_result",
          "data": {
            "text/plain": [
              "               Model Name   Cost\n",
              "6  CatBoosting Classifier   7810\n",
              "5           XGBClassifier   8270\n",
              "0           Random Forest   8340\n",
              "1           Decision Tree  12420\n",
              "4  K-Neighbors Classifier  12620\n",
              "2       Gradient Boosting  13000\n",
              "7     AdaBoost Classifier  21140\n",
              "3     Logistic Regression  99770"
            ],
            "text/html": [
              "\n",
              "  <div id=\"df-a3b70870-8d5e-4a08-8965-ed0448987265\">\n",
              "    <div class=\"colab-df-container\">\n",
              "      <div>\n",
              "<style scoped>\n",
              "    .dataframe tbody tr th:only-of-type {\n",
              "        vertical-align: middle;\n",
              "    }\n",
              "\n",
              "    .dataframe tbody tr th {\n",
              "        vertical-align: top;\n",
              "    }\n",
              "\n",
              "    .dataframe thead th {\n",
              "        text-align: right;\n",
              "    }\n",
              "</style>\n",
              "<table border=\"1\" class=\"dataframe\">\n",
              "  <thead>\n",
              "    <tr style=\"text-align: right;\">\n",
              "      <th></th>\n",
              "      <th>Model Name</th>\n",
              "      <th>Cost</th>\n",
              "    </tr>\n",
              "  </thead>\n",
              "  <tbody>\n",
              "    <tr>\n",
              "      <th>6</th>\n",
              "      <td>CatBoosting Classifier</td>\n",
              "      <td>7810</td>\n",
              "    </tr>\n",
              "    <tr>\n",
              "      <th>5</th>\n",
              "      <td>XGBClassifier</td>\n",
              "      <td>8270</td>\n",
              "    </tr>\n",
              "    <tr>\n",
              "      <th>0</th>\n",
              "      <td>Random Forest</td>\n",
              "      <td>8340</td>\n",
              "    </tr>\n",
              "    <tr>\n",
              "      <th>1</th>\n",
              "      <td>Decision Tree</td>\n",
              "      <td>12420</td>\n",
              "    </tr>\n",
              "    <tr>\n",
              "      <th>4</th>\n",
              "      <td>K-Neighbors Classifier</td>\n",
              "      <td>12620</td>\n",
              "    </tr>\n",
              "    <tr>\n",
              "      <th>2</th>\n",
              "      <td>Gradient Boosting</td>\n",
              "      <td>13000</td>\n",
              "    </tr>\n",
              "    <tr>\n",
              "      <th>7</th>\n",
              "      <td>AdaBoost Classifier</td>\n",
              "      <td>21140</td>\n",
              "    </tr>\n",
              "    <tr>\n",
              "      <th>3</th>\n",
              "      <td>Logistic Regression</td>\n",
              "      <td>99770</td>\n",
              "    </tr>\n",
              "  </tbody>\n",
              "</table>\n",
              "</div>\n",
              "      <button class=\"colab-df-convert\" onclick=\"convertToInteractive('df-a3b70870-8d5e-4a08-8965-ed0448987265')\"\n",
              "              title=\"Convert this dataframe to an interactive table.\"\n",
              "              style=\"display:none;\">\n",
              "        \n",
              "  <svg xmlns=\"http://www.w3.org/2000/svg\" height=\"24px\"viewBox=\"0 0 24 24\"\n",
              "       width=\"24px\">\n",
              "    <path d=\"M0 0h24v24H0V0z\" fill=\"none\"/>\n",
              "    <path d=\"M18.56 5.44l.94 2.06.94-2.06 2.06-.94-2.06-.94-.94-2.06-.94 2.06-2.06.94zm-11 1L8.5 8.5l.94-2.06 2.06-.94-2.06-.94L8.5 2.5l-.94 2.06-2.06.94zm10 10l.94 2.06.94-2.06 2.06-.94-2.06-.94-.94-2.06-.94 2.06-2.06.94z\"/><path d=\"M17.41 7.96l-1.37-1.37c-.4-.4-.92-.59-1.43-.59-.52 0-1.04.2-1.43.59L10.3 9.45l-7.72 7.72c-.78.78-.78 2.05 0 2.83L4 21.41c.39.39.9.59 1.41.59.51 0 1.02-.2 1.41-.59l7.78-7.78 2.81-2.81c.8-.78.8-2.07 0-2.86zM5.41 20L4 18.59l7.72-7.72 1.47 1.35L5.41 20z\"/>\n",
              "  </svg>\n",
              "      </button>\n",
              "      \n",
              "  <style>\n",
              "    .colab-df-container {\n",
              "      display:flex;\n",
              "      flex-wrap:wrap;\n",
              "      gap: 12px;\n",
              "    }\n",
              "\n",
              "    .colab-df-convert {\n",
              "      background-color: #E8F0FE;\n",
              "      border: none;\n",
              "      border-radius: 50%;\n",
              "      cursor: pointer;\n",
              "      display: none;\n",
              "      fill: #1967D2;\n",
              "      height: 32px;\n",
              "      padding: 0 0 0 0;\n",
              "      width: 32px;\n",
              "    }\n",
              "\n",
              "    .colab-df-convert:hover {\n",
              "      background-color: #E2EBFA;\n",
              "      box-shadow: 0px 1px 2px rgba(60, 64, 67, 0.3), 0px 1px 3px 1px rgba(60, 64, 67, 0.15);\n",
              "      fill: #174EA6;\n",
              "    }\n",
              "\n",
              "    [theme=dark] .colab-df-convert {\n",
              "      background-color: #3B4455;\n",
              "      fill: #D2E3FC;\n",
              "    }\n",
              "\n",
              "    [theme=dark] .colab-df-convert:hover {\n",
              "      background-color: #434B5C;\n",
              "      box-shadow: 0px 1px 3px 1px rgba(0, 0, 0, 0.15);\n",
              "      filter: drop-shadow(0px 1px 2px rgba(0, 0, 0, 0.3));\n",
              "      fill: #FFFFFF;\n",
              "    }\n",
              "  </style>\n",
              "\n",
              "      <script>\n",
              "        const buttonEl =\n",
              "          document.querySelector('#df-a3b70870-8d5e-4a08-8965-ed0448987265 button.colab-df-convert');\n",
              "        buttonEl.style.display =\n",
              "          google.colab.kernel.accessAllowed ? 'block' : 'none';\n",
              "\n",
              "        async function convertToInteractive(key) {\n",
              "          const element = document.querySelector('#df-a3b70870-8d5e-4a08-8965-ed0448987265');\n",
              "          const dataTable =\n",
              "            await google.colab.kernel.invokeFunction('convertToInteractive',\n",
              "                                                     [key], {});\n",
              "          if (!dataTable) return;\n",
              "\n",
              "          const docLinkHtml = 'Like what you see? Visit the ' +\n",
              "            '<a target=\"_blank\" href=https://colab.research.google.com/notebooks/data_table.ipynb>data table notebook</a>'\n",
              "            + ' to learn more about interactive tables.';\n",
              "          element.innerHTML = '';\n",
              "          dataTable['output_type'] = 'display_data';\n",
              "          await google.colab.output.renderOutput(dataTable, element);\n",
              "          const docLink = document.createElement('div');\n",
              "          docLink.innerHTML = docLinkHtml;\n",
              "          element.appendChild(docLink);\n",
              "        }\n",
              "      </script>\n",
              "    </div>\n",
              "  </div>\n",
              "  "
            ]
          },
          "metadata": {},
          "execution_count": 52
        }
      ],
      "source": [
        "report_pca"
      ]
    },
    {
      "cell_type": "markdown",
      "metadata": {
        "id": "K7M-SDR4DPlJ"
      },
      "source": [
        "## Final Model"
      ]
    },
    {
      "cell_type": "code",
      "execution_count": 61,
      "metadata": {
        "colab": {
          "base_uri": "https://localhost:8080/"
        },
        "id": "d19MlvJLDPlJ",
        "outputId": "8594dcb6-4c49-41c5-a82b-d5b979b05c8f"
      },
      "outputs": [
        {
          "output_type": "stream",
          "name": "stdout",
          "text": [
            "+---------------+-------------------------+------------+\n",
            "|     Model     |    Imputation_method    | Total_cost |\n",
            "+---------------+-------------------------+------------+\n",
            "| XGBClassifier | Simple Imputer-Constant |    120     |\n",
            "| Random Forest |           PCA           |    7810    |\n",
            "+---------------+-------------------------+------------+\n"
          ]
        }
      ],
      "source": [
        "from prettytable import PrettyTable\n",
        "\n",
        "pt=PrettyTable()\n",
        "pt.field_names=[\"Model\",\"Imputation_method\",\"Total_cost\"]\n",
        "pt.add_row([\"XGBClassifier\",\"Simple Imputer-Constant\",\"120\"])\n",
        "pt.add_row([\"Random Forest\",\"PCA\",\"7810\"])\n",
        "print(pt)"
      ]
    },
    {
      "cell_type": "markdown",
      "metadata": {
        "id": "BLmbnP7WDPlJ"
      },
      "source": [
        "**Report**\n",
        "- From the final report we can see than XGBClassifier with Simple imputer with strategy constant has performed the best with cost of 2950"
      ]
    },
    {
      "cell_type": "markdown",
      "metadata": {
        "id": "6hsMtglSDPlJ"
      },
      "source": [
        "### Fitting the Final model and get reports"
      ]
    },
    {
      "cell_type": "code",
      "execution_count": 54,
      "metadata": {
        "id": "0yrFShfJDPlJ"
      },
      "outputs": [],
      "source": [
        "final_model = XGBClassifier()\n",
        "\n",
        "# Resampling the minority class. The strategy can be changed as required.\n",
        "smt = SMOTETomek(random_state=42,sampling_strategy='minority', n_jobs=-1)\n",
        "# Fit the model to generate the data.\n",
        "X_res, y_res = smt.fit_resample(X_const, y)"
      ]
    },
    {
      "cell_type": "code",
      "execution_count": 55,
      "metadata": {
        "id": "vbdTJWjqDPlJ"
      },
      "outputs": [],
      "source": [
        "X_train, X_test, y_train, y_test = train_test_split(X_res,y_res,test_size=0.2,random_state=42)\n",
        "\n",
        "final_model = final_model.fit(X_train, y_train)\n",
        "y_pred = final_model.predict(X_test)"
      ]
    },
    {
      "cell_type": "code",
      "execution_count": 56,
      "metadata": {
        "colab": {
          "base_uri": "https://localhost:8080/"
        },
        "id": "n9l2sNDyDPlK",
        "outputId": "5867977a-368c-4642-912a-fab67645564b"
      },
      "outputs": [
        {
          "output_type": "stream",
          "name": "stdout",
          "text": [
            "Final XGBoost Classifier Accuracy Score (Train) : 1.0\n",
            "Final XGBoost Classifier Accuracy Score (Test) : 0.9938271604938271\n"
          ]
        }
      ],
      "source": [
        "print(\"Final XGBoost Classifier Accuracy Score (Train) :\", final_model.score(X_train,y_train))\n",
        "print(\"Final XGBoost Classifier Accuracy Score (Test) :\", accuracy_score(y_pred,y_test))"
      ]
    },
    {
      "cell_type": "code",
      "execution_count": 57,
      "metadata": {
        "colab": {
          "base_uri": "https://localhost:8080/"
        },
        "id": "S-ps17wVDPlK",
        "outputId": "0e3ff2e8-74cf-470f-f3f6-20c7a2ca67d0"
      },
      "outputs": [
        {
          "output_type": "stream",
          "name": "stdout",
          "text": [
            "Final XGBoost Classifier Cost Metric(Test) : 120\n"
          ]
        }
      ],
      "source": [
        "print(\"Final XGBoost Classifier Cost Metric(Test) :\",total_cost(y_test, y_pred))"
      ]
    },
    {
      "cell_type": "markdown",
      "metadata": {
        "id": "y3UrVuvBDPlK"
      },
      "source": [
        "## The best Model is XGBoost Classifier with 99.3% accuracy and cost of 120"
      ]
    },
    {
      "cell_type": "code",
      "execution_count": null,
      "metadata": {
        "id": "4ABgiVlXDPlK"
      },
      "outputs": [],
      "source": []
    }
  ],
  "metadata": {
    "kernelspec": {
      "display_name": "Python 3 (ipykernel)",
      "language": "python",
      "name": "python3"
    },
    "language_info": {
      "codemirror_mode": {
        "name": "ipython",
        "version": 3
      },
      "file_extension": ".py",
      "mimetype": "text/x-python",
      "name": "python",
      "nbconvert_exporter": "python",
      "pygments_lexer": "ipython3",
      "version": "3.10.0"
    },
    "vscode": {
      "interpreter": {
        "hash": "e7370f93d1d0cde622a1f8e1c04877d8463912d04d973331ad4851f04de6915a"
      }
    },
    "colab": {
      "provenance": []
    },
    "accelerator": "GPU",
    "gpuClass": "standard"
  },
  "nbformat": 4,
  "nbformat_minor": 0
}